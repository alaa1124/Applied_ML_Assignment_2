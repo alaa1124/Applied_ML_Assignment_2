{
 "cells": [
  {
   "attachments": {},
   "cell_type": "markdown",
   "metadata": {},
   "source": [
    "# Import Library"
   ]
  },
  {
   "cell_type": "code",
   "execution_count": 1,
   "metadata": {},
   "outputs": [],
   "source": [
    "import numpy as np\n",
    "import pandas as pd\n",
    "import matplotlib.pyplot as plt\n",
    "from sklearn import svm, datasets\n",
    "import seaborn as sns\n",
    "from sklearn.metrics import classification_report, ConfusionMatrixDisplay, accuracy_score, confusion_matrix\n",
    "from sklearn.datasets import make_classification, make_circles\n",
    "from sklearn.manifold import TSNE\n",
    "from sklearn.preprocessing import LabelEncoder\n",
    "from sklearn.model_selection import train_test_split\n",
    "from sklearn.naive_bayes import GaussianNB\n",
    "from sklearn.naive_bayes import BernoulliNB\n",
    "from sklearn.metrics import classification_report, confusion_matrix\n",
    "from sklearn.naive_bayes import GaussianNB, MultinomialNB\n"
   ]
  },
  {
   "attachments": {},
   "cell_type": "markdown",
   "metadata": {},
   "source": [
    "# Load Data"
   ]
  },
  {
   "cell_type": "code",
   "execution_count": 2,
   "metadata": {},
   "outputs": [],
   "source": [
    "def load_dataset():\n",
    "    # Load the dataset\n",
    "    url = \"https://archive.ics.uci.edu/ml/machine-learning-databases/spambase/spambase.data\"\n",
    "    names = ['feature' + str(i) for i in range(57)] + ['spam']\n",
    "    dataset = pd.read_csv(url, names=names)\n",
    "\n",
    "    # Split the dataset into features and labels\n",
    "    X = dataset.iloc[:, :-1]\n",
    "    y = dataset.iloc[:, -1]\n",
    "\n",
    "    # Get the list of class names\n",
    "    class_names = list(dataset['spam'].unique())\n",
    "\n",
    "    return X, y, class_names"
   ]
  },
  {
   "cell_type": "code",
   "execution_count": 3,
   "metadata": {},
   "outputs": [],
   "source": [
    "X, y, class_names =load_dataset()"
   ]
  },
  {
   "attachments": {},
   "cell_type": "markdown",
   "metadata": {},
   "source": [
    "# (a)Split the dataset into two parts as training data and test data. "
   ]
  },
  {
   "cell_type": "code",
   "execution_count": 4,
   "metadata": {},
   "outputs": [],
   "source": [
    "#Split the dataset into two parts\n",
    "total_samples = len(X)\n",
    "subset_size_X = int(total_samples * 0.8)\n",
    "subset_size_Y = (len(X) * 80)\n",
    "X_train = X[:subset_size_X]\n",
    "X_test = y[:subset_size_Y]\n",
    "y_train = X[subset_size_X:]\n",
    "y_test = y[subset_size_Y:]\n",
    "\n",
    "#Another way to Split the dataset into two parts\n",
    "X_train, X_test, y_train, y_test = train_test_split(X, y, test_size=0.2, random_state=42, shuffle=False)\n"
   ]
  },
  {
   "cell_type": "code",
   "execution_count": 5,
   "metadata": {},
   "outputs": [
    {
     "name": "stdout",
     "output_type": "stream",
     "text": [
      "Confusion Matrix (Gaussian Naive Bayes):\n",
      " [[569 352]\n",
      " [  0   0]]\n",
      "Accuracy (Gaussian Naive Bayes): 0.6178067318132465\n",
      "Confusion Matrix (Multinomial Naive Bayes):\n",
      " [[666 255]\n",
      " [  0   0]]\n",
      "Accuracy (Multinomial Naive Bayes): 0.7231270358306189\n",
      "Classification Report (Bernoulli Naive Bayes):\n",
      "               precision    recall  f1-score   support\n",
      "\n",
      "           0       1.00      0.62      0.76       921\n",
      "           1       0.00      0.00      0.00         0\n",
      "\n",
      "    accuracy                           0.62       921\n",
      "   macro avg       0.50      0.31      0.38       921\n",
      "weighted avg       1.00      0.62      0.76       921\n",
      "\n",
      "Classification Report (Bernoulli Naive Bayes):\n",
      "               precision    recall  f1-score   support\n",
      "\n",
      "           0       1.00      0.62      0.76       921\n",
      "           1       0.00      0.00      0.00         0\n",
      "\n",
      "    accuracy                           0.62       921\n",
      "   macro avg       0.50      0.31      0.38       921\n",
      "weighted avg       1.00      0.62      0.76       921\n",
      "\n"
     ]
    },
    {
     "name": "stderr",
     "output_type": "stream",
     "text": [
      "z:\\Programs\\Anakonda1\\lib\\site-packages\\sklearn\\metrics\\_classification.py:1344: UndefinedMetricWarning: Recall and F-score are ill-defined and being set to 0.0 in labels with no true samples. Use `zero_division` parameter to control this behavior.\n",
      "  _warn_prf(average, modifier, msg_start, len(result))\n",
      "z:\\Programs\\Anakonda1\\lib\\site-packages\\sklearn\\metrics\\_classification.py:1344: UndefinedMetricWarning: Recall and F-score are ill-defined and being set to 0.0 in labels with no true samples. Use `zero_division` parameter to control this behavior.\n",
      "  _warn_prf(average, modifier, msg_start, len(result))\n",
      "z:\\Programs\\Anakonda1\\lib\\site-packages\\sklearn\\metrics\\_classification.py:1344: UndefinedMetricWarning: Recall and F-score are ill-defined and being set to 0.0 in labels with no true samples. Use `zero_division` parameter to control this behavior.\n",
      "  _warn_prf(average, modifier, msg_start, len(result))\n",
      "z:\\Programs\\Anakonda1\\lib\\site-packages\\sklearn\\metrics\\_classification.py:1344: UndefinedMetricWarning: Recall and F-score are ill-defined and being set to 0.0 in labels with no true samples. Use `zero_division` parameter to control this behavior.\n",
      "  _warn_prf(average, modifier, msg_start, len(result))\n",
      "z:\\Programs\\Anakonda1\\lib\\site-packages\\sklearn\\metrics\\_classification.py:1344: UndefinedMetricWarning: Recall and F-score are ill-defined and being set to 0.0 in labels with no true samples. Use `zero_division` parameter to control this behavior.\n",
      "  _warn_prf(average, modifier, msg_start, len(result))\n",
      "z:\\Programs\\Anakonda1\\lib\\site-packages\\sklearn\\metrics\\_classification.py:1344: UndefinedMetricWarning: Recall and F-score are ill-defined and being set to 0.0 in labels with no true samples. Use `zero_division` parameter to control this behavior.\n",
      "  _warn_prf(average, modifier, msg_start, len(result))\n"
     ]
    },
    {
     "data": {
      "text/plain": [
       "<sklearn.metrics._plot.confusion_matrix.ConfusionMatrixDisplay at 0x23fb9d037f0>"
      ]
     },
     "execution_count": 5,
     "metadata": {},
     "output_type": "execute_result"
    },
    {
     "data": {
      "image/png": "[encoded data removed]",
      "text/plain": [
       "<Figure size 432x288 with 2 Axes>"
      ]
     },
     "metadata": {
      "needs_background": "light"
     },
     "output_type": "display_data"
    },
    {
     "data": {
      "image/png": "[encoded data removed]",
      "text/plain": [
       "<Figure size 432x288 with 2 Axes>"
      ]
     },
     "metadata": {
      "needs_background": "light"
     },
     "output_type": "display_data"
    }
   ],
   "source": [
    "# Create Gaussian Naive Bayes classifier\n",
    "gaussian_nb = GaussianNB()\n",
    "# Fit the classifier on the training data\n",
    "gaussian_nb.fit(X_train, y_train)\n",
    "# Predict the labels for the test data\n",
    "y_pred_gaussian = gaussian_nb.predict(X_test)\n",
    "# Compute the confusion matrix for Gaussian Naive Bayes\n",
    "confusion_matrix_gaussian = confusion_matrix(y_test, y_pred_gaussian)\n",
    "# Compute the accuracy for Gaussian Naive Bayes\n",
    "accuracy_gaussian = accuracy_score(y_test, y_pred_gaussian)\n",
    "\n",
    "# Create Multinomial Naive Bayes classifier\n",
    "multinomial_nb = MultinomialNB()\n",
    "# Fit the classifier on the training data\n",
    "multinomial_nb.fit(X_train, y_train)\n",
    "# Predict the labels for the test data\n",
    "y_pred_multinomial = multinomial_nb.predict(X_test)\n",
    "\n",
    "\n",
    "# Compute the confusion matrix for Multinomial Naive Bayes\n",
    "confusion_matrix_multinomial = confusion_matrix(y_test, y_pred_multinomial)\n",
    "# Compute the accuracy for Multinomial Naive Bayes\n",
    "accuracy_multinomial = accuracy_score(y_test, y_pred_multinomial)\n",
    "\n",
    "# Print the confusion matrix and accuracy for Gaussian Naive Bayes\n",
    "print(\"Confusion Matrix (Gaussian Naive Bayes):\\n\", confusion_matrix_gaussian)\n",
    "print(\"Accuracy (Gaussian Naive Bayes):\", accuracy_gaussian)\n",
    "\n",
    "# Print the confusion matrix and accuracy for Multinomial Naive Bayes\n",
    "print(\"Confusion Matrix (Multinomial Naive Bayes):\\n\", confusion_matrix_multinomial)\n",
    "print(\"Accuracy (Multinomial Naive Bayes):\", accuracy_multinomial)\n",
    "\n",
    "\n",
    "# Print the classification report for gaussian Naive Bayes\n",
    "classification_report_gaussian = classification_report(y_test, y_pred_gaussian)\n",
    "print(\"Classification Report (Bernoulli Naive Bayes):\\n\", classification_report_gaussian)\n",
    "\n",
    "# Print the classification report for Bernoulli Naive Bayes\n",
    "classification_report_multinomial = classification_report(y_test, y_pred_gaussian)\n",
    "print(\"Classification Report (Bernoulli Naive Bayes):\\n\", classification_report_multinomial)\n",
    "\n",
    "ConfusionMatrixDisplay.from_estimator(gaussian_nb, X_test, y_test)\n",
    "ConfusionMatrixDisplay.from_estimator(multinomial_nb, X_test, y_test)"
   ]
  },
  {
   "attachments": {},
   "cell_type": "markdown",
   "metadata": {},
   "source": [
    "# (b) Use train test split function on input and output of the whole data"
   ]
  },
  {
   "cell_type": "code",
   "execution_count": 6,
   "metadata": {},
   "outputs": [
    {
     "name": "stdout",
     "output_type": "stream",
     "text": [
      "Confusion Matrix (Gaussian Naive Bayes):\n",
      " [[387 144]\n",
      " [ 21 369]]\n",
      "Accuracy (Gaussian Naive Bayes): 0.8208469055374593\n",
      "Confusion Matrix (Multinomial Naive Bayes):\n",
      " [[445  86]\n",
      " [111 279]]\n",
      "Accuracy (Multinomial Naive Bayes): 0.7861020629750272\n",
      "Classification Report (Bernoulli Naive Bayes):\n",
      "               precision    recall  f1-score   support\n",
      "\n",
      "           0       0.95      0.73      0.82       531\n",
      "           1       0.72      0.95      0.82       390\n",
      "\n",
      "    accuracy                           0.82       921\n",
      "   macro avg       0.83      0.84      0.82       921\n",
      "weighted avg       0.85      0.82      0.82       921\n",
      "\n",
      "Classification Report (Bernoulli Naive Bayes):\n",
      "               precision    recall  f1-score   support\n",
      "\n",
      "           0       0.95      0.73      0.82       531\n",
      "           1       0.72      0.95      0.82       390\n",
      "\n",
      "    accuracy                           0.82       921\n",
      "   macro avg       0.83      0.84      0.82       921\n",
      "weighted avg       0.85      0.82      0.82       921\n",
      "\n"
     ]
    },
    {
     "data": {
      "text/plain": [
       "<sklearn.metrics._plot.confusion_matrix.ConfusionMatrixDisplay at 0x23fba2bc1c0>"
      ]
     },
     "execution_count": 6,
     "metadata": {},
     "output_type": "execute_result"
    },
    {
     "data": {
      "image/png": "[encoded data removed]",
      "text/plain": [
       "<Figure size 432x288 with 2 Axes>"
      ]
     },
     "metadata": {
      "needs_background": "light"
     },
     "output_type": "display_data"
    },
    {
     "data": {
      "image/png": "[encoded data removed]",
      "text/plain": [
       "<Figure size 432x288 with 2 Axes>"
      ]
     },
     "metadata": {
      "needs_background": "light"
     },
     "output_type": "display_data"
    }
   ],
   "source": [
    "X, y, class_names =load_dataset()\n",
    "# Split the dataset into training and test sets\n",
    "X_train, X_test, y_train, y_test = train_test_split(X, y, test_size=0.2, random_state=42)\n",
    "\n",
    "# Create Gaussian Naive Bayes classifier\n",
    "gaussian_nb = GaussianNB()\n",
    "# Fit the classifier on the training data\n",
    "gaussian_nb.fit(X_train, y_train)\n",
    "# Predict the labels for the test data\n",
    "y_pred_gaussian = gaussian_nb.predict(X_test)\n",
    "# Compute the confusion matrix for Gaussian Naive Bayes\n",
    "confusion_matrix_gaussian = confusion_matrix(y_test, y_pred_gaussian)\n",
    "# Compute the accuracy for Gaussian Naive Bayes\n",
    "accuracy_gaussian = accuracy_score(y_test, y_pred_gaussian)\n",
    "\n",
    "# Create Multinomial Naive Bayes classifier\n",
    "multinomial_nb = MultinomialNB()\n",
    "# Fit the classifier on the training data\n",
    "multinomial_nb.fit(X_train, y_train)\n",
    "# Predict the labels for the test data\n",
    "y_pred_multinomial = multinomial_nb.predict(X_test)\n",
    "\n",
    "\n",
    "# Compute the confusion matrix for Multinomial Naive Bayes\n",
    "confusion_matrix_multinomial = confusion_matrix(y_test, y_pred_multinomial)\n",
    "# Compute the accuracy for Multinomial Naive Bayes\n",
    "accuracy_multinomial = accuracy_score(y_test, y_pred_multinomial)\n",
    "\n",
    "# Print the confusion matrix and accuracy for Gaussian Naive Bayes\n",
    "print(\"Confusion Matrix (Gaussian Naive Bayes):\\n\", confusion_matrix_gaussian)\n",
    "print(\"Accuracy (Gaussian Naive Bayes):\", accuracy_gaussian)\n",
    "\n",
    "# Print the confusion matrix and accuracy for Multinomial Naive Bayes\n",
    "print(\"Confusion Matrix (Multinomial Naive Bayes):\\n\", confusion_matrix_multinomial)\n",
    "print(\"Accuracy (Multinomial Naive Bayes):\", accuracy_multinomial)\n",
    "\n",
    "\n",
    "# Print the classification report for gaussian Naive Bayes\n",
    "classification_report_gaussian = classification_report(y_test, y_pred_gaussian)\n",
    "print(\"Classification Report (Bernoulli Naive Bayes):\\n\", classification_report_gaussian)\n",
    "\n",
    "# Print the classification report for Bernoulli Naive Bayes\n",
    "classification_report_multinomial = classification_report(y_test, y_pred_gaussian)\n",
    "print(\"Classification Report (Bernoulli Naive Bayes):\\n\", classification_report_multinomial)\n",
    "\n",
    "ConfusionMatrixDisplay.from_estimator(gaussian_nb, X_test, y_test)\n",
    "ConfusionMatrixDisplay.from_estimator(multinomial_nb, X_test, y_test)\n",
    "\n"
   ]
  },
  {
   "attachments": {},
   "cell_type": "markdown",
   "metadata": {},
   "source": [
    "# (c) Use another Naive Bayes classifier"
   ]
  },
  {
   "cell_type": "code",
   "execution_count": 7,
   "metadata": {},
   "outputs": [
    {
     "name": "stdout",
     "output_type": "stream",
     "text": [
      "Confusion Matrix (Bernoulli Naive Bayes):\n",
      " [[499  32]\n",
      " [ 78 312]]\n",
      "Accuracy (Bernoulli Naive Bayes): 0.8805646036916395\n",
      "Classification Report (Bernoulli Naive Bayes):\n",
      "               precision    recall  f1-score   support\n",
      "\n",
      "           0       0.86      0.94      0.90       531\n",
      "           1       0.91      0.80      0.85       390\n",
      "\n",
      "    accuracy                           0.88       921\n",
      "   macro avg       0.89      0.87      0.88       921\n",
      "weighted avg       0.88      0.88      0.88       921\n",
      "\n"
     ]
    },
    {
     "data": {
      "text/plain": [
       "<sklearn.metrics._plot.confusion_matrix.ConfusionMatrixDisplay at 0x23fb9d7aa00>"
      ]
     },
     "execution_count": 7,
     "metadata": {},
     "output_type": "execute_result"
    },
    {
     "data": {
      "image/png": "[encoded data removed]",
      "text/plain": [
       "<Figure size 432x288 with 2 Axes>"
      ]
     },
     "metadata": {
      "needs_background": "light"
     },
     "output_type": "display_data"
    }
   ],
   "source": [
    "# Create Bernoulli Naive Bayes classifier\n",
    "bernoulli_nb = BernoulliNB()\n",
    "# Fit the classifier on the training data\n",
    "bernoulli_nb.fit(X_train, y_train)\n",
    "# Predict the labels for the test data\n",
    "y_pred_bernoulli = bernoulli_nb.predict(X_test)\n",
    "\n",
    "# Compute the confusion matrix for Bernoulli Naive Bayes\n",
    "confusion_matrix_bernoulli = confusion_matrix(y_test, y_pred_bernoulli)\n",
    "# Compute the accuracy for Bernoulli Naive Bayes\n",
    "accuracy_bernoulli = accuracy_score(y_test, y_pred_bernoulli)\n",
    "\n",
    "# Print the confusion matrix and accuracy for Bernoulli Naive Bayes\n",
    "print(\"Confusion Matrix (Bernoulli Naive Bayes):\\n\", confusion_matrix_bernoulli)\n",
    "print(\"Accuracy (Bernoulli Naive Bayes):\", accuracy_bernoulli)\n",
    "\n",
    "# Print the classification report for Bernoulli Naive Bayes\n",
    "classification_report_bernoulli = classification_report(y_test, y_pred_bernoulli)\n",
    "print(\"Classification Report (Bernoulli Naive Bayes):\\n\", classification_report_bernoulli)\n",
    "\n",
    "ConfusionMatrixDisplay.from_estimator(bernoulli_nb, X_test, y_test)"
   ]
  },
  {
   "attachments": {},
   "cell_type": "markdown",
   "metadata": {},
   "source": [
    "# (d) Take same first 80 percent "
   ]
  },
  {
   "cell_type": "code",
   "execution_count": 8,
   "metadata": {},
   "outputs": [
    {
     "data": {
      "image/png": "[encoded data removed]",
      "text/plain": [
       "<Figure size 432x288 with 1 Axes>"
      ]
     },
     "metadata": {
      "needs_background": "light"
     },
     "output_type": "display_data"
    }
   ],
   "source": [
    "# Split the dataset into train and test sets\n",
    "X_train, X_test, y_train, y_test = train_test_split(X, y, test_size=0.2, random_state=42, shuffle=False)\n",
    "\n",
    "# Split the training data into four equal subsets\n",
    "subset_size_X = (len(X_train) // 4)\n",
    "subset_size_Y = (len(y_train) // 4)\n",
    "subset_1_X = X_train[:subset_size_X]\n",
    "subset_2_X = X_train[subset_size_X:2*subset_size_X]\n",
    "subset_3_X = X_train[2*subset_size_X:3*subset_size_X]\n",
    "subset_4_X = X_train[3*subset_size_X:]\n",
    "subset_1_y = y_train[:subset_size_Y]\n",
    "subset_2_y = y_train[subset_size_Y:2*subset_size_Y]\n",
    "subset_3_y = y_train[2*subset_size_Y:3*subset_size_Y]\n",
    "subset_4_y = y_train[3*subset_size_Y:]\n",
    "\n",
    "# Train the selected classifier (Bernoulli Naive Bayes) on each subset\n",
    "classifier1 = BernoulliNB()\n",
    "classifier1.fit(subset_1_X, subset_1_y)\n",
    "y_pred_1 = classifier1.predict(X_test)\n",
    "\n",
    "classifier2 = BernoulliNB()\n",
    "classifier2.fit(subset_2_X, subset_2_y)\n",
    "y_pred_2 = classifier2.predict(X_test)\n",
    "\n",
    "classifier3 = BernoulliNB()\n",
    "classifier3.fit(subset_3_X, subset_3_y)\n",
    "y_pred_3 = classifier3.predict(X_test)\n",
    "\n",
    "classifier4 = BernoulliNB()\n",
    "classifier4.fit(subset_4_X, subset_4_y)\n",
    "y_pred_4 = classifier4.predict(X_test)\n",
    "\n",
    "# Compute the accuracy score for each subset\n",
    "accuracy_1 = accuracy_score(y_test, y_pred_1)\n",
    "accuracy_2 = accuracy_score(y_test, y_pred_2)\n",
    "accuracy_3 = accuracy_score(y_test, y_pred_3)\n",
    "accuracy_4 = accuracy_score(y_test, y_pred_4)\n",
    "\n",
    "# Create a bar chart\n",
    "subset_names = ['Subset 1', 'Subset 2', 'Subset 3', 'Subset 4']\n",
    "accuracies = [accuracy_1, accuracy_2, accuracy_3, accuracy_4]\n",
    "\n",
    "plt.bar(subset_names, accuracies)\n",
    "plt.xlabel('Subsets')\n",
    "plt.ylabel('Accuracy')\n",
    "plt.title('Accuracy of Subsets')\n",
    "plt.show()\n"
   ]
  },
  {
   "cell_type": "code",
   "execution_count": null,
   "metadata": {},
   "outputs": [],
   "source": []
  }
 ],
 "metadata": {
  "kernelspec": {
   "display_name": "Python 3",
   "language": "python",
   "name": "python3"
  },
  "language_info": {
   "codemirror_mode": {
    "name": "ipython",
    "version": 3
   },
   "file_extension": ".py",
   "mimetype": "text/x-python",
   "name": "python",
   "nbconvert_exporter": "python",
   "pygments_lexer": "ipython3",
   "version": "3.8.8"
  },
  "orig_nbformat": 4
 },
 "nbformat": 4,
 "nbformat_minor": 2
}
